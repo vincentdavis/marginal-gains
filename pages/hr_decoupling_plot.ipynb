{
 "cells": [
  {
   "cell_type": "code",
   "execution_count": null,
   "id": "initial_id",
   "metadata": {
    "collapsed": true
   },
   "outputs": [],
   "source": [
    "import pandas as pd\n",
    "import numpy as np\n",
    "import plotly.graph_objects as go\n",
    "from plotly.subplots import make_subplots\n",
    "import plotly.express as px"
   ]
  },
  {
   "metadata": {},
   "cell_type": "code",
   "outputs": [],
   "execution_count": null,
   "source": [
    "# Create sample data\n",
    "# In a real scenario, this would be replaced with your actual dataframe\n",
    "np.random.seed(42)\n",
    "seconds = np.arange(1, 601)  # 10 minutes of second-by-second data\n",
    "heartrate = 140 + 30 * np.sin(seconds/100) + np.random.normal(0, 5, len(seconds))\n",
    "\n",
    "# Create a DataFrame\n",
    "df = pd.DataFrame({\n",
    "    'seconds': seconds,\n",
    "    'heartrate': heartrate\n",
    "})\n",
    "\n",
    "# Calculate power and normalized power values (simulated)\n",
    "# In real usage, this would come from your actual data\n",
    "power_base = 200 + 80 * np.sin(seconds/120) + np.random.normal(0, 30, len(seconds))\n",
    "df[\"power\"] = np.maximum(0, power_base)  # Power can't be negative\n",
    "df[\"power_4th\"] = df[\"power\"] ** 4\n",
    "df[\"NP_15\"] = df[\"power_4th\"].rolling(window=15, min_periods=1).mean() ** 0.25\n",
    "df[\"NP\"] = df[\"power_4th\"].rolling(window=30, min_periods=1).mean() ** 0.25\n",
    "df[\"NP_60\"] = df[\"power_4th\"].rolling(window=60, min_periods=1).mean() ** 0.25\n",
    "\n",
    "# Calculate the heart rate to normalized power ratios\n",
    "df[\"heartrate_to_NP_15\"] = df[\"heartrate\"] / df[\"NP_15\"]\n",
    "df[\"heartrate_to_NP_60\"] = df[\"heartrate\"] / df[\"NP_60\"]\n",
    "\n",
    "# Display the first few rows\n",
    "df.head()"
   ],
   "id": "9a21ad4084de3c1"
  },
  {
   "metadata": {},
   "cell_type": "code",
   "outputs": [],
   "execution_count": null,
   "source": [
    "# Create a plotly figure\n",
    "fig = go.Figure()\n",
    "\n",
    "# Add the three lines to the plot\n",
    "fig.add_trace(go.Scatter(\n",
    "    x=df[\"seconds\"],\n",
    "    y=df[\"heartrate\"] / df[\"NP_15\"],\n",
    "    mode='lines',\n",
    "    name='heartrate/NP_15'\n",
    "))\n",
    "\n",
    "# Second line (same as first line based on the request)\n",
    "fig.add_trace(go.Scatter(\n",
    "    x=df[\"seconds\"],\n",
    "    y=df[\"heartrate\"] / df[\"NP_15\"],\n",
    "    mode='lines',\n",
    "    name='heartrate/np_15',\n",
    "    line=dict(dash='dash')  # Making the line dashed to distinguish from the first one\n",
    "))\n",
    "\n",
    "# Third line\n",
    "fig.add_trace(go.Scatter(\n",
    "    x=df[\"seconds\"],\n",
    "    y=df[\"heartrate\"] / df[\"NP_60\"],\n",
    "    mode='lines',\n",
    "    name='heartrate/NP_60'\n",
    "))\n",
    "\n",
    "# Update layout with title and axis labels\n",
    "fig.update_layout(\n",
    "    title='Heart Rate to Normalized Power Ratios vs Time',\n",
    "    xaxis_title='Time (seconds)',\n",
    "    yaxis_title='Heart Rate to NP Ratio',\n",
    "    template='plotly_white',\n",
    "    legend=dict(\n",
    "        orientation=\"h\",\n",
    "        yanchor=\"bottom\",\n",
    "        y=1.02,\n",
    "        xanchor=\"right\",\n",
    "        x=1\n",
    "    )\n",
    ")\n",
    "\n",
    "# Show the plot\n",
    "fig.show()\n",
    "\n",
    "# To display this in Streamlit, you would use:\n",
    "# st.plotly_chart(fig, use_container_width=True)"
   ],
   "id": "db14e08f3ba47b17"
  }
 ],
 "metadata": {
  "kernelspec": {
   "display_name": "Python 3",
   "language": "python",
   "name": "python3"
  },
  "language_info": {
   "codemirror_mode": {
    "name": "ipython",
    "version": 2
   },
   "file_extension": ".py",
   "mimetype": "text/x-python",
   "name": "python",
   "nbconvert_exporter": "python",
   "pygments_lexer": "ipython2",
   "version": "2.7.6"
  }
 },
 "nbformat": 4,
 "nbformat_minor": 5
}
